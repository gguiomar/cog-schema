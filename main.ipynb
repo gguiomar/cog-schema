{
 "cells": [
  {
   "cell_type": "code",
   "execution_count": 6,
   "metadata": {
    "ExecuteTime": {
     "end_time": "2025-04-01T13:06:19.788Z",
     "start_time": "2025-04-01T13:05:54.813025Z"
    }
   },
   "outputs": [
    {
     "name": "stdout",
     "output_type": "stream",
     "text": [
      "Running benchmark for agent: Qwen_0.5B\n",
      "Initializing new agent: Qwen_0.5B\n",
      "Using transformers with GPU\n",
      "Running benchmark for Qwen_0.5B, 3 rounds, 4 quadrants, 1 trials\n"
     ]
    },
    {
     "name": "stderr",
     "output_type": "stream",
     "text": [
      "100%|██████████| 1/1 [00:00<00:00, 10.59it/s]"
     ]
    },
    {
     "name": "stdout",
     "output_type": "stream",
     "text": [
      "\n",
      "Simulation 1/1\n",
      "==================================================\n",
      "\n",
      "=== Task Description ===\n",
      "Task:\n",
      "You will play a game with 3 rounds.\n",
      "In each round you'll see available cues (choosable):\n",
      "One cue has 90% one color / 10% other, others have 50/50 color distribution.\n",
      "Possible cues are: A, B, C, D.\n",
      "Active cues disappear after random duration, at least one cue is active per round.\n",
      "Your task is to pick one of the available cues every round, by responding with just the letter and nothing else. Don't use markup or punctuation.\n",
      "After 3 rounds, identify the biased cue.\n",
      "Correct: +100 points, Wrong: -100 points.\n",
      "\n",
      "=== Beginning Trial 1 ===\n",
      "\n",
      "--- Trial 1, Round 1 ---\n",
      "\n",
      "Accumulated prompt shown to LLM:\n",
      "--------------------\n",
      "Task:\n",
      "You will play a game with 3 rounds.\n",
      "In each round you'll see available cues (choosable):\n",
      "One cue has 90% one color / 10% other, others have 50/50 color distribution.\n",
      "Possible cues are: A, B, C, D.\n",
      "Active cues disappear after random duration, at least one cue is active per round.\n",
      "Your task is to pick one of the available cues every round, by responding with just the letter and nothing else. Don't use markup or punctuation.\n",
      "After 3 rounds, identify the biased cue.\n",
      "Correct: +100 points, Wrong: -100 points.\n",
      "==== Trial 1 ====\n",
      "\n",
      "Trial 1, Round 1: Available cues B.\n",
      "Which do you choose? Respond with exactly one letter: A, B, C, or D.\n",
      "--------------------\n",
      "Result: RED\n",
      "(cue B was from Quadrant 2)\n",
      "\n",
      "--- Trial 1, Round 2 ---\n",
      "\n",
      "Accumulated prompt shown to LLM:\n",
      "--------------------\n",
      "Task:\n",
      "You will play a game with 3 rounds.\n",
      "In each round you'll see available cues (choosable):\n",
      "One cue has 90% one color / 10% other, others have 50/50 color distribution.\n",
      "Possible cues are: A, B, C, D.\n",
      "Active cues disappear after random duration, at least one cue is active per round.\n",
      "Your task is to pick one of the available cues every round, by responding with just the letter and nothing else. Don't use markup or punctuation.\n",
      "After 3 rounds, identify the biased cue.\n",
      "Correct: +100 points, Wrong: -100 points.\n",
      "==== Trial 1 ====\n",
      "\n",
      "Trial 1, Round 1: Available cues B. You chose \"B\" and saw RED.\n",
      "Trial 1, Round 2: Available cues A, B.\n",
      "Which do you choose? Respond with exactly one letter: A, B, C, or D.\n",
      "--------------------\n",
      "Result: GREEN\n",
      "(cue A was from Quadrant 1)\n",
      "\n",
      "--- Trial 1, Round 3 ---\n",
      "\n",
      "Accumulated prompt shown to LLM:\n",
      "--------------------\n",
      "Task:\n",
      "You will play a game with 3 rounds.\n",
      "In each round you'll see available cues (choosable):\n",
      "One cue has 90% one color / 10% other, others have 50/50 color distribution.\n",
      "Possible cues are: A, B, C, D.\n",
      "Active cues disappear after random duration, at least one cue is active per round.\n",
      "Your task is to pick one of the available cues every round, by responding with just the letter and nothing else. Don't use markup or punctuation.\n",
      "After 3 rounds, identify the biased cue.\n",
      "Correct: +100 points, Wrong: -100 points.\n",
      "==== Trial 1 ====\n",
      "\n",
      "Trial 1, Round 1: Available cues B. You chose \"B\" and saw RED.\n",
      "Trial 1, Round 2: Available cues A, B. You chose \"A\" and saw GREEN.\n",
      "Trial 1, Round 3: Available cues B.\n",
      "Which do you choose? Respond with exactly one letter: A, B, C, or D.\n",
      "--------------------\n",
      "Invalid choice!\n",
      "\n",
      "=== Trial 1 Final Decision ===\n",
      "\n",
      "Final accumulated prompt shown to LLM:\n",
      "-------------------------\n",
      "Task:\n",
      "You will play a game with 3 rounds.\n",
      "In each round you'll see available cues (choosable):\n",
      "One cue has 90% one color / 10% other, others have 50/50 color distribution.\n",
      "Possible cues are: A, B, C, D.\n",
      "Active cues disappear after random duration, at least one cue is active per round.\n",
      "Your task is to pick one of the available cues every round, by responding with just the letter and nothing else. Don't use markup or punctuation.\n",
      "After 3 rounds, identify the biased cue.\n",
      "Correct: +100 points, Wrong: -100 points.\n",
      "==== Trial 1 ====\n",
      "\n",
      "Trial 1, Round 1: Available cues B. You chose \"B\" and saw RED.\n",
      "Trial 1, Round 2: Available cues A, B. You chose \"A\" and saw GREEN.\n",
      "Trial 1, Round 3: Available cues B. You chose \"A\" and saw Invalid choice.\n",
      "Trial 1: Based on all observed colors, which cue ['A', 'B', 'C', 'D'] do you think had the highest ratio of RED?\n",
      "Respond with exactly one letter: A, B, C, or D.\n",
      "-------------------------\n",
      "\n",
      "=== Trial 1 Results ===\n",
      "LLM's final choice: A\n",
      "Correct quadrant: C\n",
      "Result: Incorrect\n",
      "Total elapsed time: 0.92 seconds\n"
     ]
    },
    {
     "name": "stderr",
     "output_type": "stream",
     "text": [
      "\n"
     ]
    }
   ],
   "source": [
    "from manager.TaskManager import TaskManager\n",
    "from tasks.TaskSelector import TaskSelector\n",
    "\n",
    "# Time-based reasoning\n",
    "manager = TaskManager(\n",
    "    agents=[\"Qwen_0.5B\"],\n",
    "    rounds=[3],\n",
    "    quadrants=[4],\n",
    "    n_simulations=1,\n",
    "    n_trials=1,\n",
    "    verbose=True,\n",
    "    device=\"cuda:0\",\n",
    "    use_unsloth=False,\n",
    "    prompt_version=0,\n",
    "    task_type=TaskSelector.from_string(\"BiasDetection\"),\n",
    ")\n",
    "\n",
    "# Run benchmarks\n",
    "results = manager.multiple_benchmarks()"
   ]
  },
  {
   "cell_type": "code",
   "execution_count": null,
   "metadata": {},
   "outputs": [],
   "source": [
    "from sae.mechint import organized_activations, to_pca, plot_traj\n",
    "\n",
    "tensor = organized_activations(3, 3, \"activations/Qwen_0.5B\")\n",
    "pca_reshaped = to_pca(tensor)\n",
    "plot_traj(pca_reshaped, num_rounds=10, num_tokens=3)"
   ]
  },
  {
   "cell_type": "code",
   "execution_count": null,
   "metadata": {},
   "outputs": [],
   "source": []
  }
 ],
 "metadata": {
  "kernelspec": {
   "display_name": "trt",
   "language": "python",
   "name": "python3"
  },
  "language_info": {
   "codemirror_mode": {
    "name": "ipython",
    "version": 3
   },
   "file_extension": ".py",
   "mimetype": "text/x-python",
   "name": "python",
   "nbconvert_exporter": "python",
   "pygments_lexer": "ipython3",
   "version": "3.10.16"
  }
 },
 "nbformat": 4,
 "nbformat_minor": 2
}
