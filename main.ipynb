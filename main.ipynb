{
 "cells": [
  {
   "cell_type": "code",
   "execution_count": 1,
   "id": "8fcd8371-98d2-4339-ab9f-bd5b42f45056",
   "metadata": {},
   "outputs": [],
   "source": [
    "from tasks.VSTtask import VSTtask\n",
    "from agents.LLMagent import LLMagent\n",
    "from manager.TaskManager import TaskManager"
   ]
  },
  {
   "cell_type": "code",
   "execution_count": 3,
   "id": "c7098a18-ac7c-439a-9592-89efd7594ca6",
   "metadata": {},
   "outputs": [
    {
     "name": "stdout",
     "output_type": "stream",
     "text": [
      "Using unsloth with GPU\n",
      "==((====))==  Unsloth 2025.2.5: Fast Qwen2 patching. Transformers: 4.48.3.\n",
      "   \\\\   /|    GPU: NVIDIA GeForce RTX 4090. Max memory: 23.621 GB. Platform: Linux.\n",
      "O^O/ \\_/ \\    Torch: 2.6.0+cu124. CUDA: 8.9. CUDA Toolkit: 12.4. Triton: 3.2.0\n",
      "\\        /    Bfloat16 = TRUE. FA [Xformers = 0.0.29.post2. FA2 = False]\n",
      " \"-____-\"     Free Apache license: http://github.com/unslothai/unsloth\n",
      "Unsloth: Fast downloading is enabled - ignore downloading bars which are red colored!\n"
     ]
    },
    {
     "data": {
      "application/vnd.jupyter.widget-view+json": {
       "model_id": "7a6a458078884132812dd386a9d83e53",
       "version_major": 2,
       "version_minor": 0
      },
      "text/plain": [
       "model.safetensors.index.json:   0%|          | 0.00/100k [00:00<?, ?B/s]"
      ]
     },
     "metadata": {},
     "output_type": "display_data"
    },
    {
     "data": {
      "application/vnd.jupyter.widget-view+json": {
       "model_id": "1c9ffa5ebb9d4149a6db26ebc864dae0",
       "version_major": 2,
       "version_minor": 0
      },
      "text/plain": [
       "Downloading shards:   0%|          | 0/2 [00:00<?, ?it/s]"
      ]
     },
     "metadata": {},
     "output_type": "display_data"
    },
    {
     "data": {
      "application/vnd.jupyter.widget-view+json": {
       "model_id": "4b828d3a9c0f4f318ba3e3f2125da52a",
       "version_major": 2,
       "version_minor": 0
      },
      "text/plain": [
       "model-00001-of-00002.safetensors:   0%|          | 0.00/4.97G [00:00<?, ?B/s]"
      ]
     },
     "metadata": {},
     "output_type": "display_data"
    },
    {
     "name": "stderr",
     "output_type": "stream",
     "text": [
      "Error while downloading from https://cdn-lfs-us-1.hf.co/repos/d3/a2/d3a2526d06e8e438254f66d393d5b52efbbe9c65865b43c9ee4eff44ebb0b3e1/d89951edcbded32eea6718bf5957114c7151be76c8be277a381fa98f7105209b?response-content-disposition=inline%3B+filename*%3DUTF-8%27%27model-00001-of-00002.safetensors%3B+filename%3D%22model-00001-of-00002.safetensors%22%3B&Expires=1739058557&Policy=eyJTdGF0ZW1lbnQiOlt7IkNvbmRpdGlvbiI6eyJEYXRlTGVzc1RoYW4iOnsiQVdTOkVwb2NoVGltZSI6MTczOTA1ODU1N319LCJSZXNvdXJjZSI6Imh0dHBzOi8vY2RuLWxmcy11cy0xLmhmLmNvL3JlcG9zL2QzL2EyL2QzYTI1MjZkMDZlOGU0MzgyNTRmNjZkMzkzZDViNTJlZmJiZTljNjU4NjViNDNjOWVlNGVmZjQ0ZWJiMGIzZTEvZDg5OTUxZWRjYmRlZDMyZWVhNjcxOGJmNTk1NzExNGM3MTUxYmU3NmM4YmUyNzdhMzgxZmE5OGY3MTA1MjA5Yj9yZXNwb25zZS1jb250ZW50LWRpc3Bvc2l0aW9uPSoifV19&Signature=Zfx3EvKHCUnCo2IikeWeVzRQhHlNZdpZk6z0tmCoPOCwUIRaVlBYwSU9ZYwbtmjp3hxZSsUxMcusn%7E3WJWWZAl6I6w%7Ey97z1XApWSfiz8NRLYn2hzeR1ramgz0IcwC5E4-5W8kKF7vhbQdHi4dSInTuir7mP%7Ebe%7ED8v4QfgIOu%7Em1tS4ty-vFzwScSDtPeB30QTM3edNxbBRWbg9oX%7EPsrvfalg7TFNMb7SYxZhmdebjehR%7ER9teegYIl413HDvIf2Cj4-bAs75SdymnNZigG8tw0PAaLZI6k19R9hNIxk%7EgUEpFTYH2H-kU6nKxcA43JhwG%7Ek-X%7EQiLXzHcgs2Inw__&Key-Pair-Id=K24J24Z295AEI9: HTTPSConnectionPool(host='cdn-lfs-us-1.hf.co', port=443): Read timed out.\n",
      "Trying to resume download...\n"
     ]
    },
    {
     "data": {
      "application/vnd.jupyter.widget-view+json": {
       "model_id": "d2d3922b30ac484394812b043b900f6a",
       "version_major": 2,
       "version_minor": 0
      },
      "text/plain": [
       "model-00001-of-00002.safetensors:  44%|####3     | 2.17G/4.97G [00:00<?, ?B/s]"
      ]
     },
     "metadata": {},
     "output_type": "display_data"
    },
    {
     "name": "stderr",
     "output_type": "stream",
     "text": [
      "Error while downloading from https://cdn-lfs-us-1.hf.co/repos/d3/a2/d3a2526d06e8e438254f66d393d5b52efbbe9c65865b43c9ee4eff44ebb0b3e1/d89951edcbded32eea6718bf5957114c7151be76c8be277a381fa98f7105209b?response-content-disposition=inline%3B+filename*%3DUTF-8%27%27model-00001-of-00002.safetensors%3B+filename%3D%22model-00001-of-00002.safetensors%22%3B&Expires=1739058557&Policy=eyJTdGF0ZW1lbnQiOlt7IkNvbmRpdGlvbiI6eyJEYXRlTGVzc1RoYW4iOnsiQVdTOkVwb2NoVGltZSI6MTczOTA1ODU1N319LCJSZXNvdXJjZSI6Imh0dHBzOi8vY2RuLWxmcy11cy0xLmhmLmNvL3JlcG9zL2QzL2EyL2QzYTI1MjZkMDZlOGU0MzgyNTRmNjZkMzkzZDViNTJlZmJiZTljNjU4NjViNDNjOWVlNGVmZjQ0ZWJiMGIzZTEvZDg5OTUxZWRjYmRlZDMyZWVhNjcxOGJmNTk1NzExNGM3MTUxYmU3NmM4YmUyNzdhMzgxZmE5OGY3MTA1MjA5Yj9yZXNwb25zZS1jb250ZW50LWRpc3Bvc2l0aW9uPSoifV19&Signature=Zfx3EvKHCUnCo2IikeWeVzRQhHlNZdpZk6z0tmCoPOCwUIRaVlBYwSU9ZYwbtmjp3hxZSsUxMcusn%7E3WJWWZAl6I6w%7Ey97z1XApWSfiz8NRLYn2hzeR1ramgz0IcwC5E4-5W8kKF7vhbQdHi4dSInTuir7mP%7Ebe%7ED8v4QfgIOu%7Em1tS4ty-vFzwScSDtPeB30QTM3edNxbBRWbg9oX%7EPsrvfalg7TFNMb7SYxZhmdebjehR%7ER9teegYIl413HDvIf2Cj4-bAs75SdymnNZigG8tw0PAaLZI6k19R9hNIxk%7EgUEpFTYH2H-kU6nKxcA43JhwG%7Ek-X%7EQiLXzHcgs2Inw__&Key-Pair-Id=K24J24Z295AEI9: HTTPSConnectionPool(host='cdn-lfs-us-1.hf.co', port=443): Read timed out.\n",
      "Trying to resume download...\n"
     ]
    },
    {
     "data": {
      "application/vnd.jupyter.widget-view+json": {
       "model_id": "5e77ae98fbcc4a6781bf6c4c26be1f3e",
       "version_major": 2,
       "version_minor": 0
      },
      "text/plain": [
       "model-00001-of-00002.safetensors:  87%|########6 | 4.32G/4.97G [00:00<?, ?B/s]"
      ]
     },
     "metadata": {},
     "output_type": "display_data"
    },
    {
     "data": {
      "application/vnd.jupyter.widget-view+json": {
       "model_id": "9913328825304a039e1c4422e18d52ca",
       "version_major": 2,
       "version_minor": 0
      },
      "text/plain": [
       "model-00002-of-00002.safetensors:   0%|          | 0.00/3.52G [00:00<?, ?B/s]"
      ]
     },
     "metadata": {},
     "output_type": "display_data"
    },
    {
     "name": "stderr",
     "output_type": "stream",
     "text": [
      "Error while downloading from https://cdn-lfs-us-1.hf.co/repos/d3/a2/d3a2526d06e8e438254f66d393d5b52efbbe9c65865b43c9ee4eff44ebb0b3e1/32152fcce250c61031324ce54a600de4e483becc307df492b0c910314b5cf2cd?response-content-disposition=inline%3B+filename*%3DUTF-8%27%27model-00002-of-00002.safetensors%3B+filename%3D%22model-00002-of-00002.safetensors%22%3B&Expires=1739059121&Policy=eyJTdGF0ZW1lbnQiOlt7IkNvbmRpdGlvbiI6eyJEYXRlTGVzc1RoYW4iOnsiQVdTOkVwb2NoVGltZSI6MTczOTA1OTEyMX19LCJSZXNvdXJjZSI6Imh0dHBzOi8vY2RuLWxmcy11cy0xLmhmLmNvL3JlcG9zL2QzL2EyL2QzYTI1MjZkMDZlOGU0MzgyNTRmNjZkMzkzZDViNTJlZmJiZTljNjU4NjViNDNjOWVlNGVmZjQ0ZWJiMGIzZTEvMzIxNTJmY2NlMjUwYzYxMDMxMzI0Y2U1NGE2MDBkZTRlNDgzYmVjYzMwN2RmNDkyYjBjOTEwMzE0YjVjZjJjZD9yZXNwb25zZS1jb250ZW50LWRpc3Bvc2l0aW9uPSoifV19&Signature=NGF-ATaJhQQ0S2Ap0bC153qOHK5iBW%7ETd0BGygEx5igzOJar1djBzVWhVQ3ajEo-caCdTyHQC-8cuR9hMxTdMRrVz7yfKpYe7I02Awz29RXJpS-GCFvVhqLGEY02JVB-zxWulHfZz0Q2C%7ER6ic8z89lJ3M2E02XltdLxY7BHx%7Ec61Dd5jd6EDtB%7EeR2nbfKOgI4QFqAHTlcyjUFegb1II2xzWIRq2AWLgS55v6VN0SaecqAxWwvhtIq263PGgObmrTEhvJOF6aH7wQsKRG7RL3Si4qaHHBbwaQFaBfELc9NunUxOBQI2eSgNNsFlhUv-dSthXahZsNF6ivbmSkzjKA__&Key-Pair-Id=K24J24Z295AEI9: HTTPSConnectionPool(host='cdn-lfs-us-1.hf.co', port=443): Read timed out.\n",
      "Trying to resume download...\n"
     ]
    },
    {
     "data": {
      "application/vnd.jupyter.widget-view+json": {
       "model_id": "67ede79eafa147028bd8290a4b36fabc",
       "version_major": 2,
       "version_minor": 0
      },
      "text/plain": [
       "model-00002-of-00002.safetensors:  44%|####3     | 1.53G/3.52G [00:00<?, ?B/s]"
      ]
     },
     "metadata": {},
     "output_type": "display_data"
    },
    {
     "data": {
      "application/vnd.jupyter.widget-view+json": {
       "model_id": "9aba3acde45948f9b04fc07cdaf3169e",
       "version_major": 2,
       "version_minor": 0
      },
      "text/plain": [
       "Loading checkpoint shards:   0%|          | 0/2 [00:00<?, ?it/s]"
      ]
     },
     "metadata": {},
     "output_type": "display_data"
    },
    {
     "data": {
      "application/vnd.jupyter.widget-view+json": {
       "model_id": "819df116a337407c9f2317fd17170c23",
       "version_major": 2,
       "version_minor": 0
      },
      "text/plain": [
       "generation_config.json:   0%|          | 0.00/236 [00:00<?, ?B/s]"
      ]
     },
     "metadata": {},
     "output_type": "display_data"
    },
    {
     "data": {
      "application/vnd.jupyter.widget-view+json": {
       "model_id": "bf328b29522348dc9b13dbbc9629c880",
       "version_major": 2,
       "version_minor": 0
      },
      "text/plain": [
       "tokenizer_config.json:   0%|          | 0.00/6.77k [00:00<?, ?B/s]"
      ]
     },
     "metadata": {},
     "output_type": "display_data"
    },
    {
     "data": {
      "application/vnd.jupyter.widget-view+json": {
       "model_id": "1cfb0cda44cb4da2bee7a6486148b33e",
       "version_major": 2,
       "version_minor": 0
      },
      "text/plain": [
       "special_tokens_map.json:   0%|          | 0.00/472 [00:00<?, ?B/s]"
      ]
     },
     "metadata": {},
     "output_type": "display_data"
    },
    {
     "data": {
      "application/vnd.jupyter.widget-view+json": {
       "model_id": "6680228cbf1848818ab557ea50c28c18",
       "version_major": 2,
       "version_minor": 0
      },
      "text/plain": [
       "tokenizer.json:   0%|          | 0.00/11.4M [00:00<?, ?B/s]"
      ]
     },
     "metadata": {},
     "output_type": "display_data"
    },
    {
     "name": "stderr",
     "output_type": "stream",
     "text": [
      "Device set to use cuda:0\n"
     ]
    }
   ],
   "source": [
    "YOUR_ANTHROPIC_API_KEY=\"\"\n",
    "YOUR_OPENAI_API_KEY = \"\"\n",
    "\n",
    "# To use OpenAI:\n",
    "#agent = LLMagent(model_name=\"gpt-4o-mini\", openai_api_key=\"YOUR_OPENAI_API_KEY\")\n",
    "\n",
    "# To use Anthropic:\n",
    "#agent = LLMagent(model_name=\"claude-3-5-sonnet-latest\", anthropic_api_key=YOUR_ANTHROPIC_API_KEY)\n",
    "\n",
    "# To use a local model:\n",
    "agent = LLMagent(model_name=\"Deepseek_R1_7B_Qwen\", use_unsloth=True, device_map=\"cuda:0\")\n"
   ]
  },
  {
   "cell_type": "code",
   "execution_count": 8,
   "id": "a6831bd6-8a72-442a-82c9-0489a6a3b8b0",
   "metadata": {},
   "outputs": [
    {
     "name": "stderr",
     "output_type": "stream",
     "text": [
      "100%|█████████████████████████████████████████| 100/100 [01:51<00:00,  1.11s/it]\n"
     ]
    }
   ],
   "source": [
    "manager = TaskManager(n_simulations=100, n_rounds=20, num_quadrants=2, num_cues=1, pipe=agent, verbose=False)\n",
    "metrics = manager.run_simulations()"
   ]
  },
  {
   "cell_type": "code",
   "execution_count": 13,
   "id": "95d79a2b-90e5-49c3-bde4-7e9ab5753636",
   "metadata": {},
   "outputs": [
    {
     "name": "stdout",
     "output_type": "stream",
     "text": [
      "0.06\n"
     ]
    }
   ],
   "source": [
    "print(metrics['success_rate'])"
   ]
  },
  {
   "cell_type": "code",
   "execution_count": 16,
   "id": "f307440b-6bf8-4125-8155-c1798e133aa4",
   "metadata": {},
   "outputs": [],
   "source": [
    "import numpy as np\n",
    "\n",
    "# Benchmark plot\n",
    "agents = [\"Deepseek_R1_1B_Qwen\", \"Deepseek_R1_7B_Qwen\", \"Deepseek_R1_8B_Llama\", \n",
    "          \"Qwen_1B\", \"Qwen_3B\", \"Qwen_7B\", \"Qwen_1B_Instruct\", \"Qwen_3B_Instruct\", \n",
    "          \"Qwen_7B_Instruct\", \"Centaur_8B\"]\n",
    "\n",
    "rounds = [5, 10, 20, 50, 100]\n",
    "\n",
    "results = np.zeros((10, 5, 10))\n",
    "for agent, a in zip(agents, range(10)):\n",
    "    pipe = LLMagent(model_name=agent, use_unsloth=True, device_map=\"cuda:0\")\n",
    "    for rnd, r in zip(rounds, range(5)):\n",
    "        for i in range(10):\n",
    "            manager = TaskManager(n_simulations=100, n_rounds=rnd, num_quadrants=2, num_cues=1, pipe=pipe, verbose=False)\n",
    "            metrics = manager.run_simulations()\n",
    "            results[a, r, i] = metrics['success_rate']\n",
    "    "
   ]
  },
  {
   "cell_type": "code",
   "execution_count": null,
   "id": "c521fdf8-699b-468d-8c69-aacb19ca981c",
   "metadata": {},
   "outputs": [],
   "source": []
  }
 ],
 "metadata": {
  "kernelspec": {
   "display_name": "Python 3 (ipykernel)",
   "language": "python",
   "name": "python3"
  },
  "language_info": {
   "codemirror_mode": {
    "name": "ipython",
    "version": 3
   },
   "file_extension": ".py",
   "mimetype": "text/x-python",
   "name": "python",
   "nbconvert_exporter": "python",
   "pygments_lexer": "ipython3",
   "version": "3.10.16"
  }
 },
 "nbformat": 4,
 "nbformat_minor": 5
}
