{
 "cells": [
  {
   "cell_type": "code",
   "execution_count": null,
   "metadata": {
    "ExecuteTime": {
     "end_time": "2025-04-01T13:06:19.788Z",
     "start_time": "2025-04-01T13:05:54.813025Z"
    }
   },
   "outputs": [],
   "source": [
    "from manager.TaskManager import TaskManager\n",
    "\n",
    "# Time-based reasoning\n",
    "manager = TaskManager(\n",
    "    agents=[\"Qwen_0.5B\"],\n",
    "    rounds=[3],\n",
    "    quadrants=[4],\n",
    "    n_simulations=1,\n",
    "    n_trials=3,\n",
    "    verbose=False,\n",
    "    device=\"cuda:0\",\n",
    "    use_unsloth=False,\n",
    ")\n",
    "\n",
    "# Run benchmarks\n",
    "results = manager.multiple_benchmarks()"
   ]
  },
  {
   "cell_type": "code",
   "execution_count": 1,
   "metadata": {},
   "outputs": [
    {
     "name": "stdout",
     "output_type": "stream",
     "text": [
      "Dimensions - Max tokens: 544, Hidden dim: 896, Layers: 24\n",
      "Created target array with shape: (12, 24, 544, 896)\n",
      "Loading and organizing activations...\n"
     ]
    },
    {
     "name": "stderr",
     "output_type": "stream",
     "text": [
      "Processing files: 100%|██████████| 12/12 [00:00<00:00, 88.74it/s]"
     ]
    },
    {
     "name": "stdout",
     "output_type": "stream",
     "text": [
      "Successfully organized activations with final shape: (12, 24, 544, 896)\n"
     ]
    },
    {
     "name": "stderr",
     "output_type": "stream",
     "text": [
      "\n"
     ]
    }
   ],
   "source": [
    "from sae.mechint import organized_activations\n",
    "\n",
    "tensor = organized_activations(3, 3, \"activations/Qwen_0.5B\")"
   ]
  },
  {
   "cell_type": "code",
   "execution_count": null,
   "metadata": {},
   "outputs": [],
   "source": []
  }
 ],
 "metadata": {
  "kernelspec": {
   "display_name": "trt",
   "language": "python",
   "name": "python3"
  },
  "language_info": {
   "codemirror_mode": {
    "name": "ipython",
    "version": 3
   },
   "file_extension": ".py",
   "mimetype": "text/x-python",
   "name": "python",
   "nbconvert_exporter": "python",
   "pygments_lexer": "ipython3",
   "version": "3.10.16"
  }
 },
 "nbformat": 4,
 "nbformat_minor": 2
}
