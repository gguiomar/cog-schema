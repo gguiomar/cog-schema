{
 "cells": [
  {
   "cell_type": "markdown",
   "metadata": {},
   "source": [
    "# Transformers Feature Extraction"
   ]
  },
  {
   "cell_type": "code",
   "execution_count": 4,
   "metadata": {},
   "outputs": [],
   "source": [
    "import torch\n",
    "from transformers import AutoTokenizer, AutoModelForCausalLM"
   ]
  },
  {
   "cell_type": "code",
   "execution_count": 6,
   "metadata": {},
   "outputs": [],
   "source": [
    "# Load language model and tokenizer \n",
    "lm = AutoModelForCausalLM.from_pretrained(\"gpt2\")\n",
    "tokenizer = AutoTokenizer.from_pretrained(\"gpt2\")\n",
    "\n",
    "# Encode input text\n",
    "input_text = \"Thinking fast and slow\"\n",
    "input_ids = tokenizer.encode(input_text, return_tensors=\"pt\")\n",
    "\n",
    "# Forward pass\n",
    "with torch.no_grad():\n",
    "    output = lm(input_ids, output_hidden_states=True)\n",
    "\n",
    "# Extract hidden states\n",
    "hidden_states = output.hidden_states\n"
   ]
  },
  {
   "cell_type": "code",
   "execution_count": 12,
   "metadata": {},
   "outputs": [
    {
     "name": "stdout",
     "output_type": "stream",
     "text": [
      "output.hidden_states is a <class 'tuple'> of length 13,\n",
      "where 13 is the number of layers in the model, starting from the zero-th layer (input embeddings)\n"
     ]
    }
   ],
   "source": [
    "print(f\"output.hidden_states is a {type(hidden_states)} of length {len(hidden_states)},\")\n",
    "print(f\"where {len(hidden_states)} is the number of layers in the model, starting from the zero-th layer (input embeddings)\")"
   ]
  },
  {
   "cell_type": "code",
   "execution_count": 14,
   "metadata": {},
   "outputs": [
    {
     "name": "stdout",
     "output_type": "stream",
     "text": [
      "layer_6 is a <class 'torch.Tensor'> of shape torch.Size([1, 5, 768]), where\n",
      "- 1 is the number of input sequences (batch size)\n",
      "- 5 is the number of tokens in the input sequences (if multiple sequences are provided, shorter ones are padded)\n",
      "- 768 is the number of dimensions in the hidden states\n"
     ]
    }
   ],
   "source": [
    "layer_6 = hidden_states[6]\n",
    "print(f\"layer_6 is a {type(layer_6)} of shape {layer_6.shape}, where\")\n",
    "print(f\"- {layer_6.shape[0]} is the number of input sequences (batch size)\")\n",
    "print(f\"- {layer_6.shape[1]} is the number of tokens in the input sequences (if multiple sequences are provided, shorter ones are padded)\")\n",
    "print(f\"- {layer_6.shape[2]} is the number of dimensions in the hidden states\")"
   ]
  },
  {
   "cell_type": "code",
   "execution_count": null,
   "metadata": {},
   "outputs": [],
   "source": []
  }
 ],
 "metadata": {
  "kernelspec": {
   "display_name": ".venv",
   "language": "python",
   "name": "python3"
  },
  "language_info": {
   "codemirror_mode": {
    "name": "ipython",
    "version": 3
   },
   "file_extension": ".py",
   "mimetype": "text/x-python",
   "name": "python",
   "nbconvert_exporter": "python",
   "pygments_lexer": "ipython3",
   "version": "3.12.4"
  }
 },
 "nbformat": 4,
 "nbformat_minor": 2
}
